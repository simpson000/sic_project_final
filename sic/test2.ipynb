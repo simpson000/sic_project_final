{
 "cells": [
  {
   "cell_type": "code",
   "execution_count": 102,
   "metadata": {},
   "outputs": [],
   "source": [
    "import numpy as np \n",
    "import pandas as pd \n",
    "import re\n",
    "import matplotlib.pyplot as plt \n",
    "import sklearn.metrics as mt \n",
    "from sklearn.tree import export_graphviz \n",
    "from sklearn.tree import DecisionTreeClassifier \n",
    "from sklearn.ensemble import RandomForestClassifier ## check\n",
    "from sklearn.metrics import accuracy_score      ##check\n",
    "from sklearn.model_selection import train_test_split \n",
    "from sklearn.model_selection import StratifiedShuffleSplit  ## check\n",
    "from sklearn.model_selection import cross_val_score\n",
    "from sklearn.model_selection import RandomizedSearchCV \n",
    "import joblib \n",
    "from sklearn.metrics import confusion_matrix\n",
    "\n",
    "###sdjflkdsjlskdf"
   ]
  },
  {
   "cell_type": "code",
   "execution_count": 63,
   "metadata": {},
   "outputs": [],
   "source": [
    " # 1. daily raw data 가져오기\n",
    "df = pd.read_excel(r\"C:\\Users\\siim2\\OneDrive\\바탕 화면\\sic 펀드\\4주차\\auto_raw_new.xlsx\", sheet_name=\"Sheet1\", header=0, index_col=0)"
   ]
  },
  {
   "cell_type": "code",
   "execution_count": 64,
   "metadata": {},
   "outputs": [
    {
     "data": {
      "text/html": [
       "<div>\n",
       "<style scoped>\n",
       "    .dataframe tbody tr th:only-of-type {\n",
       "        vertical-align: middle;\n",
       "    }\n",
       "\n",
       "    .dataframe tbody tr th {\n",
       "        vertical-align: top;\n",
       "    }\n",
       "\n",
       "    .dataframe thead th {\n",
       "        text-align: right;\n",
       "    }\n",
       "</style>\n",
       "<table border=\"1\" class=\"dataframe\">\n",
       "  <thead>\n",
       "    <tr style=\"text-align: right;\">\n",
       "      <th></th>\n",
       "      <th>auto</th>\n",
       "      <th>KOSPI지수</th>\n",
       "      <th>원/달러 환율</th>\n",
       "      <th>원/엔 환율</th>\n",
       "      <th>국채 3년물</th>\n",
       "      <th>국채 10년물</th>\n",
       "      <th>PER</th>\n",
       "      <th>PBR</th>\n",
       "      <th>VKOSPI</th>\n",
       "      <th>treasury_10_3_diff</th>\n",
       "      <th>...</th>\n",
       "      <th>us_e_infla_60</th>\n",
       "      <th>yield_gap(%)_60</th>\n",
       "      <th>cpi_60</th>\n",
       "      <th>export_60</th>\n",
       "      <th>WTI_60</th>\n",
       "      <th>DGS2_60</th>\n",
       "      <th>DGS10_60</th>\n",
       "      <th>TIPS_60</th>\n",
       "      <th>VIX_60</th>\n",
       "      <th>PPI_60</th>\n",
       "    </tr>\n",
       "  </thead>\n",
       "  <tbody>\n",
       "    <tr>\n",
       "      <th>2010-03-31</th>\n",
       "      <td>up</td>\n",
       "      <td>1692.85</td>\n",
       "      <td>1131.3</td>\n",
       "      <td>1213.45</td>\n",
       "      <td>3.895</td>\n",
       "      <td>4.94</td>\n",
       "      <td>24.35</td>\n",
       "      <td>1.36</td>\n",
       "      <td>13.47</td>\n",
       "      <td>1.06</td>\n",
       "      <td>...</td>\n",
       "      <td>-0.001520</td>\n",
       "      <td>0.041108</td>\n",
       "      <td>0.001143</td>\n",
       "      <td>-0.003024</td>\n",
       "      <td>0.000843</td>\n",
       "      <td>0.001338</td>\n",
       "      <td>0.000067</td>\n",
       "      <td>0.002583</td>\n",
       "      <td>-0.003504</td>\n",
       "      <td>0.000217</td>\n",
       "    </tr>\n",
       "    <tr>\n",
       "      <th>2010-04-01</th>\n",
       "      <td>up</td>\n",
       "      <td>1719.17</td>\n",
       "      <td>1126.4</td>\n",
       "      <td>1204.45</td>\n",
       "      <td>3.895</td>\n",
       "      <td>4.92</td>\n",
       "      <td>24.13</td>\n",
       "      <td>1.38</td>\n",
       "      <td>13.63</td>\n",
       "      <td>1.07</td>\n",
       "      <td>...</td>\n",
       "      <td>-0.001448</td>\n",
       "      <td>0.038560</td>\n",
       "      <td>0.000667</td>\n",
       "      <td>-0.003721</td>\n",
       "      <td>0.001020</td>\n",
       "      <td>0.001886</td>\n",
       "      <td>0.000202</td>\n",
       "      <td>0.002811</td>\n",
       "      <td>-0.003742</td>\n",
       "      <td>0.000212</td>\n",
       "    </tr>\n",
       "    <tr>\n",
       "      <th>2010-04-05</th>\n",
       "      <td>up</td>\n",
       "      <td>1724.99</td>\n",
       "      <td>1123.1</td>\n",
       "      <td>1188.97</td>\n",
       "      <td>3.840</td>\n",
       "      <td>4.95</td>\n",
       "      <td>24.22</td>\n",
       "      <td>1.38</td>\n",
       "      <td>13.56</td>\n",
       "      <td>1.11</td>\n",
       "      <td>...</td>\n",
       "      <td>-0.001381</td>\n",
       "      <td>0.036369</td>\n",
       "      <td>0.000195</td>\n",
       "      <td>-0.004392</td>\n",
       "      <td>0.001237</td>\n",
       "      <td>0.002512</td>\n",
       "      <td>0.000351</td>\n",
       "      <td>0.003084</td>\n",
       "      <td>-0.004067</td>\n",
       "      <td>0.000207</td>\n",
       "    </tr>\n",
       "    <tr>\n",
       "      <th>2010-04-06</th>\n",
       "      <td>up</td>\n",
       "      <td>1726.09</td>\n",
       "      <td>1123.2</td>\n",
       "      <td>1195.40</td>\n",
       "      <td>3.845</td>\n",
       "      <td>4.94</td>\n",
       "      <td>24.24</td>\n",
       "      <td>1.38</td>\n",
       "      <td>14.75</td>\n",
       "      <td>1.10</td>\n",
       "      <td>...</td>\n",
       "      <td>-0.001299</td>\n",
       "      <td>0.033592</td>\n",
       "      <td>-0.000272</td>\n",
       "      <td>-0.005038</td>\n",
       "      <td>0.001483</td>\n",
       "      <td>0.003055</td>\n",
       "      <td>0.000521</td>\n",
       "      <td>0.003383</td>\n",
       "      <td>-0.004470</td>\n",
       "      <td>0.000200</td>\n",
       "    </tr>\n",
       "    <tr>\n",
       "      <th>2010-04-07</th>\n",
       "      <td>up</td>\n",
       "      <td>1726.60</td>\n",
       "      <td>1120.5</td>\n",
       "      <td>1191.13</td>\n",
       "      <td>3.820</td>\n",
       "      <td>4.88</td>\n",
       "      <td>24.26</td>\n",
       "      <td>1.39</td>\n",
       "      <td>14.22</td>\n",
       "      <td>1.06</td>\n",
       "      <td>...</td>\n",
       "      <td>-0.001157</td>\n",
       "      <td>0.031333</td>\n",
       "      <td>-0.000736</td>\n",
       "      <td>-0.005658</td>\n",
       "      <td>0.001698</td>\n",
       "      <td>0.003488</td>\n",
       "      <td>0.000649</td>\n",
       "      <td>0.003483</td>\n",
       "      <td>-0.004842</td>\n",
       "      <td>0.000193</td>\n",
       "    </tr>\n",
       "  </tbody>\n",
       "</table>\n",
       "<p>5 rows × 65 columns</p>\n",
       "</div>"
      ],
      "text/plain": [
       "           auto  KOSPI지수  원/달러 환율   원/엔 환율  국채 3년물   국채 10년물     PER   PBR  \\\n",
       "2010-03-31   up  1692.85   1131.3  1213.45    3.895      4.94  24.35  1.36   \n",
       "2010-04-01   up  1719.17   1126.4  1204.45    3.895      4.92  24.13  1.38   \n",
       "2010-04-05   up  1724.99   1123.1  1188.97    3.840      4.95  24.22  1.38   \n",
       "2010-04-06   up  1726.09   1123.2  1195.40    3.845      4.94  24.24  1.38   \n",
       "2010-04-07   up  1726.60   1120.5  1191.13    3.820      4.88  24.26  1.39   \n",
       "\n",
       "            VKOSPI  treasury_10_3_diff  ...  us_e_infla_60  yield_gap(%)_60  \\\n",
       "2010-03-31   13.47                1.06  ...      -0.001520         0.041108   \n",
       "2010-04-01   13.63                1.07  ...      -0.001448         0.038560   \n",
       "2010-04-05   13.56                1.11  ...      -0.001381         0.036369   \n",
       "2010-04-06   14.75                1.10  ...      -0.001299         0.033592   \n",
       "2010-04-07   14.22                1.06  ...      -0.001157         0.031333   \n",
       "\n",
       "              cpi_60  export_60    WTI_60   DGS2_60  DGS10_60   TIPS_60  \\\n",
       "2010-03-31  0.001143  -0.003024  0.000843  0.001338  0.000067  0.002583   \n",
       "2010-04-01  0.000667  -0.003721  0.001020  0.001886  0.000202  0.002811   \n",
       "2010-04-05  0.000195  -0.004392  0.001237  0.002512  0.000351  0.003084   \n",
       "2010-04-06 -0.000272  -0.005038  0.001483  0.003055  0.000521  0.003383   \n",
       "2010-04-07 -0.000736  -0.005658  0.001698  0.003488  0.000649  0.003483   \n",
       "\n",
       "              VIX_60    PPI_60  \n",
       "2010-03-31 -0.003504  0.000217  \n",
       "2010-04-01 -0.003742  0.000212  \n",
       "2010-04-05 -0.004067  0.000207  \n",
       "2010-04-06 -0.004470  0.000200  \n",
       "2010-04-07 -0.004842  0.000193  \n",
       "\n",
       "[5 rows x 65 columns]"
      ]
     },
     "execution_count": 64,
     "metadata": {},
     "output_type": "execute_result"
    }
   ],
   "source": [
    "df.head(5)"
   ]
  },
  {
   "cell_type": "code",
   "execution_count": 65,
   "metadata": {},
   "outputs": [
    {
     "name": "stdout",
     "output_type": "stream",
     "text": [
      "facter type:\n",
      " Index(['auto', 'KOSPI지수', '원/달러 환율', '원/엔 환율', '국채 3년물 ', '국채 10년물 ', 'PER',\n",
      "       'PBR', 'VKOSPI', 'treasury_10_3_diff', 'T10Y2Y', 'usa_cpi',\n",
      "       'us_e_infla', 'yield_gap(%)', 'cpi', 'export', 'WTI', 'DGS2', 'DGS10',\n",
      "       'TIPS', 'VIX', 'PPI', 'USA_Vehi_Sell', 'KOSPI지수_20', '원/달러 환율_20',\n",
      "       '원/엔 환율_20', '국채 3년물_20', '국채 10년물_20', 'PER_20', 'PBR_20', 'VKOSPI_20',\n",
      "       'treasury_10_3_diff_20', 'T10Y2Y_20', 'usa_cpi_20', 'us_e_infla_20',\n",
      "       'yield_gap(%)_20', 'cpi_20', 'export_20', 'WTI_20', 'DGS2_20',\n",
      "       'DGS10_20', 'TIPS_20', 'VIX_20', 'PPI_20', 'KOSPI지수_60', '원/달러 환율_60',\n",
      "       '원/엔 환율_60', '국채 3년물 _60', '국채 10년물 _60', 'PER_60', 'PBR_60',\n",
      "       'VKOSPI_60', 'treasury_10_3_diff_60', 'T10Y2Y_60', 'usa_cpi_60',\n",
      "       'us_e_infla_60', 'yield_gap(%)_60', 'cpi_60', 'export_60', 'WTI_60',\n",
      "       'DGS2_60', 'DGS10_60', 'TIPS_60', 'VIX_60', 'PPI_60'],\n",
      "      dtype='object') \n",
      "갯수 : 65 \n"
     ]
    }
   ],
   "source": [
    "print(\"facter type:\\n %s \" % df.columns)\n",
    "print(\"갯수 : %i \" %len(df.columns))"
   ]
  },
  {
   "cell_type": "code",
   "execution_count": 104,
   "metadata": {},
   "outputs": [
    {
     "name": "stdout",
     "output_type": "stream",
     "text": [
      "훈련 데이터 클래스 비율: {'up': 838, 'neutral': 1013, 'down': 755}\n",
      "테스트 데이터 클래스 비율: {'up': 210, 'neutral': 253, 'down': 189}\n",
      "\n"
     ]
    },
    {
     "name": "stderr",
     "output_type": "stream",
     "text": [
      "C:\\Users\\siim2\\AppData\\Local\\Temp\\ipykernel_16008\\3841303264.py:24: FutureWarning: Series.__getitem__ treating keys as positions is deprecated. In a future version, integer keys will always be treated as labels (consistent with DataFrame behavior). To access a value by position, use `ser.iloc[pos]`\n",
      "  y_train, y_test = y_past[train_index], y_past[test_index]\n"
     ]
    }
   ],
   "source": [
    "# 2. features, label 전체데이터 생성\n",
    "# X, y는 최근일까지 포함한 전 데이터. X_past, y_past는 결과가 확인된 61일전까지의 데이터\n",
    "# 결측치가 있는 행 제거\n",
    "df_dropna = df.dropna()\n",
    "\n",
    "if df_dropna.empty:\n",
    "    print(\"error\")\n",
    "else:\n",
    "    # 종속 변수(y) 및 독립 변수(X) 설정\n",
    "    y = df_dropna['auto']\n",
    "    X = df_dropna.drop(columns=['auto'])\n",
    "\n",
    "    # 최적화된 코드를 사용하여 y_past 및 X_past 생성\n",
    "    # 위에서 이미 결측치를 제거하였으므로 추가적인 처리가 필요하지 않습니다.\n",
    "    y_past = y\n",
    "    X_past = X\n",
    "\n",
    "# 3. train, test 나누기\n",
    "\n",
    "sss = StratifiedShuffleSplit(n_splits=1, test_size=0.2, random_state=0)\n",
    "\n",
    "for train_index, test_index in sss.split(X_past, y_past): #sss.split(~) 안에 n_splits 수만큼 준비됨\n",
    "    X_train, X_test = X_past.iloc[train_index,], X_past.iloc[test_index,] \n",
    "    y_train, y_test = y_past[train_index], y_past[test_index]\n",
    "# 훈련 데이터와 테스트 데이터의 클래스 비율 확인\n",
    "train_class_counts = {label: sum(y_train == label) for label in set(y)}\n",
    "test_class_counts = {label: sum(y_test == label) for label in set(y)}\n",
    "\n",
    "print(\"훈련 데이터 클래스 비율:\", train_class_counts)\n",
    "print(\"테스트 데이터 클래스 비율:\", test_class_counts)\n",
    "print()\n",
    " "
   ]
  },
  {
   "cell_type": "code",
   "execution_count": 84,
   "metadata": {},
   "outputs": [
    {
     "name": "stdout",
     "output_type": "stream",
     "text": [
      "{'n_estimators': 100, 'max_leaf_nodes': 40, 'max_features': 8}\n"
     ]
    }
   ],
   "source": [
    "# 4. 모델 세부 튜닝: 최적 하이퍼파라미터 찾기\n",
    "rnd_clf = RandomForestClassifier(n_estimators=100, n_jobs=-1, random_state=0) \n",
    " \n",
    "param_dist_rf = { \n",
    " 'n_estimators':[50, 100, 500], \n",
    " 'max_leaf_nodes':[20, 30, 40, 50], \n",
    " 'max_features':[2, 4, 6, 8] \n",
    "} \n",
    "\n",
    "rnd_search = RandomizedSearchCV(rnd_clf, param_dist_rf, cv=10, random_state=42) \n",
    "rnd_search.fit(X_train, y_train) \n",
    "print(rnd_search.best_params_)"
   ]
  },
  {
   "cell_type": "code",
   "execution_count": 68,
   "metadata": {},
   "outputs": [
    {
     "name": "stdout",
     "output_type": "stream",
     "text": [
      "\n",
      "<10-fold cross-validation>\n",
      "accuracy score mean:  0.7416666666666668\n"
     ]
    }
   ],
   "source": [
    "# 5. 학습 및 K-fold cross_validation 평가 \n",
    "rnd_clf = RandomForestClassifier(n_estimators=100, max_leaf_nodes=40, max_features=8, n_jobs=-1, \n",
    "random_state=42) #디폴트\n",
    "rnd_scores = cross_val_score(rnd_clf, X_train, y_train, scoring=\"accuracy\", cv=10) \n",
    "print(\"\\n<10-fold cross-validation>\")\n",
    "print(\"accuracy score mean: \", rnd_scores.mean())"
   ]
  },
  {
   "cell_type": "code",
   "execution_count": 69,
   "metadata": {},
   "outputs": [
    {
     "name": "stdout",
     "output_type": "stream",
     "text": [
      "\n",
      "<AI model: machine learning done >\n",
      "accuracy_score of train data(0.8 of sample):  0.8271929824561404\n"
     ]
    }
   ],
   "source": [
    "# 6. 최종 모델 학습\n",
    "rnd_clf.fit(X_train, y_train) \n",
    "print(\"\\n<AI model: machine learning done >\") \n",
    "print(\"accuracy_score of train data(0.8 of sample): \", rnd_clf.score(X_train, y_train))"
   ]
  },
  {
   "cell_type": "code",
   "execution_count": 70,
   "metadata": {},
   "outputs": [
    {
     "name": "stdout",
     "output_type": "stream",
     "text": [
      "accuracy_score of test data(0.2 of sample):  0.7300613496932515\n",
      "accuracy_score of test data:  0.7300613496932515\n"
     ]
    }
   ],
   "source": [
    "# 7. test data 확인\n",
    "print(\"accuracy_score of test data(0.2 of sample): \", rnd_clf.score(X_test, y_test)) \n",
    "y_test_pred = rnd_clf.predict(X_test) \n",
    "print(\"accuracy_score of test data: \", mt.accuracy_score(y_test, y_test_pred)) "
   ]
  },
  {
   "cell_type": "code",
   "execution_count": 75,
   "metadata": {},
   "outputs": [
    {
     "name": "stdout",
     "output_type": "stream",
     "text": [
      "\n",
      "<Confusion matrix>\n",
      "(of test)\n",
      "up neutral down\n",
      "[[239  75   1]\n",
      " [ 61 281  38]\n",
      " [ 17  72 194]]\n",
      "(of all)\n",
      "up neutral down\n",
      "[[ 857  189    2]\n",
      " [ 151 1030   85]\n",
      " [  42  189  713]]\n"
     ]
    }
   ],
   "source": [
    "# 8. confusion matrix 확인\n",
    "y_test_pred = rnd_clf.predict(X_test) \n",
    "cm1= confusion_matrix(y_test, y_test_pred, labels=[\"up\",\"neutral\",\"down\"]) \n",
    "print(\"\\n<Confusion matrix>\") \n",
    "print(\"(of test)\") \n",
    "print(\"up\",\"neutral\",\"down\") \n",
    "print(cm1) \n",
    "\n",
    "cm2= confusion_matrix(y_past, rnd_clf.predict(X_past), labels=[\"up\",\"neutral\",\"down\"]) \n",
    "print(\"(of all)\") \n",
    "print(\"up\",\"neutral\",\"down\") \n",
    "print(cm2) \n"
   ]
  },
  {
   "cell_type": "code",
   "execution_count": 76,
   "metadata": {},
   "outputs": [
    {
     "name": "stdout",
     "output_type": "stream",
     "text": [
      "\n",
      "<Feature importance>\n",
      "KOSPI지수 :  0.03209680315560768\n",
      "원/달러 환율 :  0.0155572148607508\n",
      "원/엔 환율 :  0.019401599851591785\n",
      "국채 3년물  :  0.02131544736432627\n",
      "국채 10년물  :  0.009273193126079793\n",
      "PER :  0.02523488782587946\n",
      "PBR :  0.006936999253397929\n",
      "VKOSPI :  0.011206619464298552\n",
      "treasury_10_3_diff :  0.021042462404111336\n",
      "T10Y2Y :  0.013493663418147905\n",
      "usa_cpi :  0.014187639875596703\n",
      "us_e_infla :  0.013007463848311786\n",
      "yield_gap(%) :  0.027369496901965936\n",
      "cpi :  0.015130323591023547\n",
      "export :  0.019349787346407455\n",
      "WTI :  0.015943917006954217\n",
      "DGS2 :  0.012675842727075257\n",
      "DGS10 :  0.01704542658316859\n",
      "TIPS :  0.013113279380845428\n",
      "VIX :  0.03022213693514989\n",
      "PPI :  0.017840115545734496\n",
      "USA_Vehi_Sell :  0.024003034380701532\n",
      "KOSPI지수_20 :  0.01679596547079583\n",
      "원/달러 환율_20 :  0.014807357399179885\n",
      "원/엔 환율_20 :  0.014408619672920564\n",
      "국채 3년물_20 :  0.010964271725353842\n",
      "국채 10년물_20 :  0.013334397975951803\n",
      "PER_20 :  0.013569742734940738\n",
      "PBR_20 :  0.010850126243808308\n",
      "VKOSPI_20 :  0.011218795143306115\n",
      "treasury_10_3_diff_20 :  0.01125528324485129\n",
      "T10Y2Y_20 :  0.010450720249056508\n",
      "usa_cpi_20 :  0.009743917220881039\n",
      "us_e_infla_20 :  0.007490443097468284\n",
      "yield_gap(%)_20 :  0.012330053930022247\n",
      "cpi_20 :  0.006052725750954221\n",
      "export_20 :  0.010494176552046111\n",
      "WTI_20 :  0.01272989150593608\n",
      "DGS2_20 :  0.019228091732423343\n",
      "DGS10_20 :  0.00444679397998749\n",
      "TIPS_20 :  0.004975992094602977\n",
      "VIX_20 :  0.009451802162125387\n",
      "PPI_20 :  0.00906076793917942\n",
      "KOSPI지수_60 :  0.02579257013727855\n",
      "원/달러 환율_60 :  0.025038913285444064\n",
      "원/엔 환율_60 :  0.016520326388715922\n",
      "국채 3년물 _60 :  0.00932460089552838\n",
      "국채 10년물 _60 :  0.0162521716194805\n",
      "PER_60 :  0.011901393889727673\n",
      "PBR_60 :  0.0316506063053009\n",
      "VKOSPI_60 :  0.022179302406197778\n",
      "treasury_10_3_diff_60 :  0.014371216313457525\n",
      "T10Y2Y_60 :  0.01257314977926768\n",
      "usa_cpi_60 :  0.0235744519651242\n",
      "us_e_infla_60 :  0.019539790782558394\n",
      "yield_gap(%)_60 :  0.01210462832738774\n",
      "cpi_60 :  0.01720605902634811\n",
      "export_60 :  0.017420348642337494\n",
      "WTI_60 :  0.015745686673827454\n",
      "DGS2_60 :  0.015533334061994924\n",
      "DGS10_60 :  0.01894579700911684\n",
      "TIPS_60 :  0.015024544997440102\n",
      "VIX_60 :  0.014875156576530116\n",
      "PPI_60 :  0.015318660244017774\n"
     ]
    }
   ],
   "source": [
    "# 9. 변수 중요도 체크\n",
    "print(\"\\n<Feature importance>\") \n",
    "for name, score in zip(X.columns, rnd_clf.feature_importances_): \n",
    " print(name, \": \", score)"
   ]
  },
  {
   "cell_type": "code",
   "execution_count": 77,
   "metadata": {},
   "outputs": [],
   "source": [
    "# 10. backtesting용 과거의 예측데이터 생성\n",
    "y_prediction = rnd_clf.predict(X) \n",
    "y_pred = pd.Series(y_prediction, index=y.index) \n"
   ]
  },
  {
   "cell_type": "code",
   "execution_count": 78,
   "metadata": {},
   "outputs": [
    {
     "name": "stdout",
     "output_type": "stream",
     "text": [
      "\n",
      "< AI model: save >\n"
     ]
    }
   ],
   "source": [
    "# 11. 모델 저장\n",
    "joblib.dump(rnd_clf, \"auto_model.pkl\")\n",
    "print(\"\\n< AI model: save >\")"
   ]
  },
  {
   "cell_type": "code",
   "execution_count": null,
   "metadata": {},
   "outputs": [],
   "source": []
  }
 ],
 "metadata": {
  "kernelspec": {
   "display_name": "Python 3",
   "language": "python",
   "name": "python3"
  },
  "language_info": {
   "codemirror_mode": {
    "name": "ipython",
    "version": 3
   },
   "file_extension": ".py",
   "mimetype": "text/x-python",
   "name": "python",
   "nbconvert_exporter": "python",
   "pygments_lexer": "ipython3",
   "version": "3.11.8"
  }
 },
 "nbformat": 4,
 "nbformat_minor": 2
}

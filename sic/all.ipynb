{
 "cells": [
  {
   "cell_type": "code",
   "execution_count": 7,
   "metadata": {},
   "outputs": [
    {
     "name": "stdout",
     "output_type": "stream",
     "text": [
      "Output file 'first_compile.ipynb' exists. Execution successful.\n",
      "Output file 'second_compile.ipynb' exists. Execution successful.\n",
      "Output file 'third_compile.ipynb' exists. Execution successful.\n"
     ]
    }
   ],
   "source": [
    "import os\n",
    "\n",
    "notebooks = ['first_compile.ipynb', 'second_compile.ipynb','third_compile.ipynb' ]\n",
    "\n",
    "for notebook in notebooks:\n",
    "    output_file = os.path.splitext(notebook)[0] + \".ipynb\"  # 노트북 파일의 이름에서 확장자를 변경하여 출력 파일 이름 생성\n",
    "    if os.path.isfile(output_file):\n",
    "        print(f\"Output file '{output_file}' exists. Execution successful.\")\n",
    "    else:\n",
    "        print(f\"Output file '{output_file}' does not exist. Execution failed.\")\n"
   ]
  }
 ],
 "metadata": {
  "kernelspec": {
   "display_name": "Python 3",
   "language": "python",
   "name": "python3"
  },
  "language_info": {
   "codemirror_mode": {
    "name": "ipython",
    "version": 3
   },
   "file_extension": ".py",
   "mimetype": "text/x-python",
   "name": "python",
   "nbconvert_exporter": "python",
   "pygments_lexer": "ipython3",
   "version": "3.11.8"
  }
 },
 "nbformat": 4,
 "nbformat_minor": 2
}

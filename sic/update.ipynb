{
 "cells": [
  {
   "cell_type": "code",
   "execution_count": 4,
   "metadata": {},
   "outputs": [
    {
     "ename": "AttributeError",
     "evalue": "'tuple' object has no attribute 'score'",
     "output_type": "error",
     "traceback": [
      "\u001b[1;31m---------------------------------------------------------------------------\u001b[0m",
      "\u001b[1;31mAttributeError\u001b[0m                            Traceback (most recent call last)",
      "Cell \u001b[1;32mIn[4], line 52\u001b[0m\n\u001b[0;32m     50\u001b[0m     X_test \u001b[38;5;241m=\u001b[39m dfs[keyword][selected_features[keyword]]\u001b[38;5;241m.\u001b[39miloc[\u001b[38;5;241m-\u001b[39m\u001b[38;5;241m1\u001b[39m]\u001b[38;5;241m.\u001b[39mvalues\u001b[38;5;241m.\u001b[39mreshape(\u001b[38;5;241m1\u001b[39m, \u001b[38;5;241m-\u001b[39m\u001b[38;5;241m1\u001b[39m)  \u001b[38;5;66;03m# 마지막 행 데이터\u001b[39;00m\n\u001b[0;32m     51\u001b[0m     y_test \u001b[38;5;241m=\u001b[39m dfs[keyword]\u001b[38;5;241m.\u001b[39miloc[\u001b[38;5;241m-\u001b[39m\u001b[38;5;241m1\u001b[39m][keyword]\n\u001b[1;32m---> 52\u001b[0m     test_scores[keyword] \u001b[38;5;241m=\u001b[39m \u001b[43mmodel\u001b[49m\u001b[38;5;241;43m.\u001b[39;49m\u001b[43mscore\u001b[49m(X_test, [y_test])\n\u001b[0;32m     54\u001b[0m \u001b[38;5;66;03m# 결과 출력\u001b[39;00m\n\u001b[0;32m     55\u001b[0m \u001b[38;5;28;01mfor\u001b[39;00m keyword, score \u001b[38;5;129;01min\u001b[39;00m test_scores\u001b[38;5;241m.\u001b[39mitems():\n",
      "\u001b[1;31mAttributeError\u001b[0m: 'tuple' object has no attribute 'score'"
     ]
    }
   ],
   "source": [
    "import numpy as np\n",
    "import pandas as pd \n",
    "from sklearn.preprocessing import StandardScaler, OneHotEncoder\n",
    "from sklearn.impute import SimpleImputer\n",
    "from sklearn.model_selection import train_test_split, GridSearchCV\n",
    "from sklearn.ensemble import RandomForestClassifier\n",
    "from sklearn.metrics import accuracy_score, confusion_matrix\n",
    "from joblib import Parallel, delayed\n",
    "\n",
    "# 데이터 불러오기 및 전처리\n",
    "dfs = {}\n",
    "keywords = [\"auto\", \"construct\", \"capital_market\", \"chemicals\", \"equipment\",\n",
    "            \"transport\", \"semi\", \"bank\", \"steel\",\n",
    "            \"telecom\", \"staples\", \"discretionary\", \"kospi\"]\n",
    "for keyword in keywords:\n",
    "    dfs[keyword] = pd.read_excel(r\"total_raw_0.5ver.xlsx\", sheet_name=keyword, header=0, index_col=0)\n",
    "    dfs[keyword].index = pd.to_datetime(dfs[keyword].index)\n",
    "    dfs[keyword].index = dfs[keyword].index.strftime('%Y-%m-%d')\n",
    "    dfs[keyword].dropna(inplace=True)\n",
    "\n",
    "# 특성 선택: 중요한 특성만 사용\n",
    "selected_features = {}  # 각 키워드별 선택된 특성\n",
    "for keyword, df in dfs.items():\n",
    "    X = df.drop(columns=[keyword])  # 종속 변수를 제외한 나머지 특성\n",
    "    y = df[keyword]  # 종속 변수\n",
    "    rfc = RandomForestClassifier(random_state=0)\n",
    "    rfc.fit(X, y)\n",
    "    selected_feature_indices = np.argsort(rfc.feature_importances_)[::-1][:5]  # 중요한 특성 상위 5개 선택\n",
    "    selected_features[keyword] = X.columns[selected_feature_indices].tolist()\n",
    "\n",
    "# 병렬 처리를 위한 함수: 모델 학습\n",
    "def train_model(keyword, X_train, y_train):\n",
    "    rfc = RandomForestClassifier(random_state=0)\n",
    "    param_grid = {'n_estimators': [50, 100, 150], 'max_depth': [None, 10, 20]}\n",
    "    grid_search = GridSearchCV(rfc, param_grid, cv=5, scoring='accuracy')\n",
    "    grid_search.fit(X_train, y_train)\n",
    "    return keyword, grid_search.best_estimator_\n",
    "\n",
    "# 모델 학습을 병렬 처리하여 최적 모델 찾기\n",
    "best_models = {}\n",
    "for keyword, df in dfs.items():\n",
    "    X = df[selected_features[keyword]]  # 선택된 중요한 특성만 사용\n",
    "    y = df[keyword]\n",
    "    X_train, X_test, y_train, y_test = train_test_split(X, y, test_size=0.2, random_state=0)\n",
    "    best_models[keyword] = train_model(keyword, X_train, y_train)\n",
    "\n",
    "# 테스트 성능 평가\n",
    "test_scores = {}\n",
    "for keyword, model in best_models.items():\n",
    "    X_test = dfs[keyword][selected_features[keyword]].iloc[-1].values.reshape(1, -1)  # 마지막 행 데이터\n",
    "    y_test = dfs[keyword].iloc[-1][keyword]\n",
    "    test_scores[keyword] = model.score(X_test, [y_test])\n",
    "\n",
    "# 결과 출력\n",
    "for keyword, score in test_scores.items():\n",
    "    print(f\"{keyword} 키워드의 테스트 성능: {score:.4f}\")\n"
   ]
  }
 ],
 "metadata": {
  "kernelspec": {
   "display_name": "Python 3",
   "language": "python",
   "name": "python3"
  },
  "language_info": {
   "codemirror_mode": {
    "name": "ipython",
    "version": 3
   },
   "file_extension": ".py",
   "mimetype": "text/x-python",
   "name": "python",
   "nbconvert_exporter": "python",
   "pygments_lexer": "ipython3",
   "version": "3.12.3"
  }
 },
 "nbformat": 4,
 "nbformat_minor": 2
}

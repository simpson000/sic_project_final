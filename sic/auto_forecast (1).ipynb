{
 "cells": [
  {
   "cell_type": "code",
   "execution_count": 29,
   "metadata": {},
   "outputs": [],
   "source": [
    "# -*- coding: utf-8 -*- \n",
    "import numpy as np \n",
    "import pandas as pd \n",
    "import re\n",
    "import matplotlib.pyplot as plt \n",
    "import sklearn.metrics as mt \n",
    "from sklearn.tree import export_graphviz \n",
    "from sklearn.tree import DecisionTreeClassifier \n",
    "from sklearn.ensemble import RandomForestClassifier\n",
    "from sklearn.model_selection import train_test_split \n",
    "from sklearn.model_selection import StratifiedShuffleSplit \n",
    "from sklearn.model_selection import cross_val_score\n",
    "from sklearn.model_selection import RandomizedSearchCV \n",
    "import joblib \n",
    "from sklearn.metrics import confusion_matrix \n",
    "t = {'temp':'temp'} "
   ]
  },
  {
   "cell_type": "code",
   "execution_count": 30,
   "metadata": {},
   "outputs": [
    {
     "name": "stdout",
     "output_type": "stream",
     "text": [
      "\n",
      "< AI model: load >\n"
     ]
    }
   ],
   "source": [
    "# 1. 모델 로드\n",
    "rnd_clf = joblib.load(\"auto_model.pkl\") \n",
    "print(\"\\n< AI model: load >\") "
   ]
  },
  {
   "cell_type": "code",
   "execution_count": 31,
   "metadata": {},
   "outputs": [],
   "source": [
    " # 1. daily raw data 가져오기\n",
    "model_data = pd.read_excel(r\"C:\\Users\\siim2\\sic_project_final\\raw_no_kospi.xlsx\", sheet_name=\"Sheet1\", header=0, index_col=0)\n",
    "X = model_data.iloc[:, 1:] \n",
    "X_names = X.columns \n",
    "y = model_data[\"auto\"]\n",
    "X_past = X[y.notna()] \n",
    "y_past = y[y.notna()]"
   ]
  },
  {
   "cell_type": "code",
   "execution_count": 74,
   "metadata": {},
   "outputs": [
    {
     "data": {
      "text/plain": [
       "<bound method DataFrame.info of            auto  원/달러 환율   원/엔 환율  국채 3년물   국채 10년물     PER   PBR  VKOSPI  \\\n",
       "base_date                                                                   \n",
       "2010-03-31   up   1131.3  1213.45    3.895     4.940  24.35  1.36   13.47   \n",
       "2010-04-01   up   1126.4  1204.45    3.895     4.920  24.13  1.38   13.63   \n",
       "2010-04-05   up   1123.1  1188.97    3.840     4.950  24.22  1.38   13.56   \n",
       "2010-04-06   up   1123.2  1195.40    3.845     4.940  24.24  1.38   14.75   \n",
       "2010-04-07   up   1120.5  1191.13    3.820     4.880  24.26  1.39   14.22   \n",
       "...         ...      ...      ...      ...       ...    ...   ...     ...   \n",
       "2024-01-05   up   1315.4   906.14    3.284     3.400  18.88  0.93   17.80   \n",
       "2024-01-08   up   1316.0   912.78    3.298     3.435  18.81  0.93   17.77   \n",
       "2024-01-09   up   1315.7   914.16    3.256     3.348  18.76  0.93   17.42   \n",
       "2024-01-10   up   1320.1   911.39    3.269     3.346  18.62  0.92   16.79   \n",
       "2024-01-11   up   1312.9   902.68    3.227     3.339  18.60  0.92   17.14   \n",
       "\n",
       "            treasury_10_3_diff  T10Y2Y  ...  구리 선물_60  중국 고정자산투자(yoy)_60  \\\n",
       "base_date                               ...                                \n",
       "2010-03-31               1.060    2.82  ...  0.000646          -0.003116   \n",
       "2010-04-01               1.070    2.84  ...  0.000842          -0.003191   \n",
       "2010-04-05               1.110    2.83  ...  0.001063          -0.003258   \n",
       "2010-04-06               1.100    2.84  ...  0.001314          -0.003318   \n",
       "2010-04-07               1.060    2.83  ...  0.001518          -0.003370   \n",
       "...                        ...     ...  ...       ...                ...   \n",
       "2024-01-05               0.063   -0.34  ...  0.001646          -0.001982   \n",
       "2024-01-08               0.044   -0.35  ...  0.001619          -0.001925   \n",
       "2024-01-09               0.068   -0.35  ...  0.001570          -0.001862   \n",
       "2024-01-10               0.077   -0.33  ...  0.001519          -0.001794   \n",
       "2024-01-11               0.076   -0.28  ...  0.001454          -0.001719   \n",
       "\n",
       "            중국 PMI_60   금 선물_60  MSCI_EMER_60  달러 인덱스_60  중국소매판매_60  \\\n",
       "base_date                                                             \n",
       "2010-03-31  -0.001932 -0.000143      0.000025   0.000891   0.006217   \n",
       "2010-04-01  -0.001859 -0.000108      0.000181   0.000870   0.006153   \n",
       "2010-04-05  -0.001785 -0.000062      0.000369   0.000855   0.006087   \n",
       "2010-04-06  -0.001709  0.000015      0.000572   0.000841   0.006020   \n",
       "2010-04-07  -0.001632  0.000112      0.000767   0.000835   0.005952   \n",
       "...               ...       ...           ...        ...        ...   \n",
       "2024-01-05  -0.000375  0.001211      0.001455  -0.000874   0.014495   \n",
       "2024-01-08  -0.000375  0.001104      0.001450  -0.000879   0.014393   \n",
       "2024-01-09  -0.000375  0.001017      0.001448  -0.000880   0.014252   \n",
       "2024-01-10  -0.000373  0.000940      0.001458  -0.000882   0.014072   \n",
       "2024-01-11  -0.000370  0.000848      0.001487  -0.000871   0.013857   \n",
       "\n",
       "            중국 산업 생산_60  중국소매판매_60.1  중국 산업 생산_60.1  \n",
       "base_date                                            \n",
       "2010-03-31    -0.008068     0.006217      -0.008068  \n",
       "2010-04-01    -0.007687     0.006153      -0.007687  \n",
       "2010-04-05    -0.007304     0.006087      -0.007304  \n",
       "2010-04-06    -0.006919     0.006020      -0.006919  \n",
       "2010-04-07    -0.006532     0.005952      -0.006532  \n",
       "...                 ...          ...            ...  \n",
       "2024-01-05     0.007297     0.014495       0.007297  \n",
       "2024-01-08     0.007606     0.014393       0.007606  \n",
       "2024-01-09     0.007888     0.014252       0.007888  \n",
       "2024-01-10     0.008143     0.014072       0.008143  \n",
       "2024-01-11     0.008371     0.013857       0.008371  \n",
       "\n",
       "[3265 rows x 91 columns]>"
      ]
     },
     "execution_count": 74,
     "metadata": {},
     "output_type": "execute_result"
    }
   ],
   "source": [
    "model_data.info"
   ]
  },
  {
   "cell_type": "code",
   "execution_count": 32,
   "metadata": {},
   "outputs": [
    {
     "name": "stdout",
     "output_type": "stream",
     "text": [
      "\n",
      "<Current status>\n",
      "원/달러 환율              : 1312.900\n",
      "원/엔 환율               :  902.680\n",
      "국채 3년물               :    3.227\n",
      "국채 10년물              :    3.339\n",
      "PER                  :   18.600\n",
      "PBR                  :    0.920\n",
      "VKOSPI               :   17.140\n",
      "treasury_10_3_diff   :    0.076\n",
      "T10Y2Y               :   -0.280\n",
      "usa_cpi              :    0.034\n",
      "us_e_infla           :    2.220\n",
      "yield_gap(%)         :    0.021\n",
      "cpi                  :    0.032\n",
      "export               :   -0.072\n",
      "WTI                  :   72.150\n",
      "DGS2                 :    4.260\n",
      "DGS10                :    3.980\n",
      "TIPS                 :    1.760\n",
      "VIX                  :   12.440\n",
      "PPI                  :  242.917\n",
      "USA_Vehi_Sell        :   15.830\n",
      "구리 선물                :    3.776\n",
      "중국 고정자산투자(yoy)       :    0.029\n",
      "중국 PMI               :   49.000\n",
      "금 선물                 : 2028.900\n",
      "MSCI_EMER            :  994.749\n",
      "달러 인덱스               :  102.290\n",
      "중국소매판매               :    0.101\n",
      "중국 산업 생산             :    0.066\n",
      "중국 산업 생산 .1          :    0.066\n",
      "원/달러 환율_20           :    0.000\n",
      "원/엔 환율_20            :    0.000\n",
      "국채 3년물_20            :   -0.002\n",
      "국채 10년물_20           :    0.002\n",
      "PER_20               :   -0.001\n",
      "PBR_20               :    0.000\n",
      "VKOSPI_20            :    0.015\n",
      "treasury_10_3_diff_20 :   -0.000\n",
      "T10Y2Y_20            :    0.024\n",
      "usa_cpi_20           :    0.001\n",
      "us_e_infla_20        :    0.001\n",
      "yield_gap(%)_20      :    0.007\n",
      "cpi_20               :   -0.002\n",
      "export_20            :    0.004\n",
      "WTI_20               :    0.001\n",
      "DGS2_20              :   -0.002\n",
      "DGS10_20             :    0.000\n",
      "TIPS_20              :   -0.001\n",
      "VIX_20               :    0.003\n",
      "PPI_20               :   -0.000\n",
      "USA_Vehi_Sell_20     :    0.002\n",
      "구리 선물_20             :   -0.001\n",
      "중국 고정자산투자(yoy)_20    :   -0.000\n",
      "중국 PMI_20            :   -0.001\n",
      "금 선물_20              :    0.001\n",
      "MSCI_EMER_20         :    0.001\n",
      "달러 인덱스_20            :   -0.000\n",
      "중국소매판매_20            :    0.010\n",
      "중국 산업 생산_20          :    0.012\n",
      "원/달러 환율_60           :   -0.001\n",
      "원/엔 환율_60            :    0.000\n",
      "국채 3년물_60            :   -0.005\n",
      "국채 10년물_60           :   -0.004\n",
      "PER_60               :    0.001\n",
      "PBR_60               :    0.002\n",
      "VKOSPI_60            :   -0.003\n",
      "treasury_10_3_diff_60 :   -0.031\n",
      "T10Y2Y_60            :   -0.009\n",
      "usa_cpi_60           :   -0.004\n",
      "us_e_infla_60        :   -0.002\n",
      "yield_gap(%)_60      :    0.006\n",
      "cpi_60               :   -0.003\n",
      "export_60            :    0.004\n",
      "WTI_60               :   -0.004\n",
      "DGS2_60              :   -0.003\n",
      "DGS10_60             :   -0.004\n",
      "TIPS_60              :   -0.007\n",
      "VIX_60               :   -0.009\n",
      "PPI_60               :   -0.001\n",
      "USA_Vehi_Sell_60     :   -0.000\n",
      "구리 선물_60             :    0.001\n",
      "중국 고정자산투자(yoy)_60    :   -0.002\n",
      "중국 PMI_60            :   -0.000\n",
      "금 선물_60              :    0.001\n",
      "MSCI_EMER_60         :    0.001\n",
      "달러 인덱스_60            :   -0.001\n",
      "중국소매판매_60            :    0.014\n",
      "중국 산업 생산_60          :    0.008\n",
      "중국소매판매_60.1          :    0.014\n",
      "중국 산업 생산_60.1        :    0.008\n"
     ]
    }
   ],
   "source": [
    "print(\"\\n<Current status>\")\n",
    "for t['col'], t['score'] in zip(X.columns, X.iloc[-1]): \n",
    " print(\"{:20} : {:>8.3f}\".format(t['col'], t['score'])) \n",
    "X_current = np.array(X.iloc[-1]).reshape(1,-1) "
   ]
  },
  {
   "cell_type": "code",
   "execution_count": 33,
   "metadata": {},
   "outputs": [
    {
     "name": "stdout",
     "output_type": "stream",
     "text": [
      "\n",
      "< AI model: forecasting >\n",
      "forecast:  ['neutral']\n"
     ]
    }
   ],
   "source": [
    "# 5. 현재 전망\n",
    "print(\"\\n< AI model: forecasting >\") \n",
    "y_current_pred = rnd_clf.predict(X_current) \n",
    "print(\"forecast: \", y_current_pred) "
   ]
  },
  {
   "cell_type": "code",
   "execution_count": 34,
   "metadata": {},
   "outputs": [
    {
     "name": "stdout",
     "output_type": "stream",
     "text": [
      "\n",
      "[class] : [prob]\n",
      "down    : 0.28\n",
      "neutral : 0.39\n",
      "up      : 0.33\n"
     ]
    }
   ],
   "source": [
    "# 현재전망의 확률표\n",
    "prob_current = rnd_clf.predict_proba(X_current) \n",
    "y_names = rnd_clf.classes_ \n",
    "print(\"\\n[class] : [prob]\") \n",
    "for t['name'], t['prob'] in zip(y_names, prob_current[0]): #prob_current[0]에 1개의 현재전망이 들어가기 때문에\n",
    " print(\"{:7} : {:.2f}\".format(t['name'], t['prob']))"
   ]
  },
  {
   "cell_type": "code",
   "execution_count": 35,
   "metadata": {},
   "outputs": [
    {
     "name": "stderr",
     "output_type": "stream",
     "text": [
      "C:\\Users\\siim2\\AppData\\Local\\Packages\\PythonSoftwareFoundation.Python.3.11_qbz5n2kfra8p0\\LocalCache\\local-packages\\Python311\\site-packages\\sklearn\\base.py:486: UserWarning: X has feature names, but RandomForestClassifier was fitted without feature names\n",
      "  warnings.warn(\n"
     ]
    }
   ],
   "source": [
    "# 전기간 전망치 확률 데이터생성\n",
    "prob = rnd_clf.predict_proba(X) \n",
    "prob_df = pd.DataFrame(prob, index=y.index, columns=y_names) "
   ]
  },
  {
   "cell_type": "code",
   "execution_count": 78,
   "metadata": {},
   "outputs": [
    {
     "data": {
      "image/png": "[encoded data removed]",
      "text/plain": [
       "<Figure size 640x480 with 1 Axes>"
      ]
     },
     "metadata": {},
     "output_type": "display_data"
    }
   ],
   "source": [
    "# 전망치 확률의 그래프 출력\n",
    "prob_data = prob_df \n",
    "# 중립 값을 neutral로 설정\n",
    "\n",
    "total_data_count = len(prob_data)\n",
    "up_count = len(prob_data['up']) / total_data_count *1.5\n",
    "neutral_count = len(prob_data['neutral']) / total_data_count *0.5\n",
    "down_count = len(prob_data['down']) / total_data_count *0\n",
    "average_height = (down_count + neutral_count + up_count) / 3\n",
    "\n",
    "plt.bar(prob_data.index, prob_data['down'], label='down', color='b', bottom=0)\n",
    "plt.bar(prob_data.index, prob_data['neutral'], label='neutral', color='y', bottom=prob_data['down'])\n",
    "plt.bar(prob_data.index, prob_data['up'], label='up', color='r', bottom=prob_data['down'] + prob_data['neutral'])\n",
    "plt.axhline(y=average_height, color='g', linestyle='--', label='average')\n",
    "\n",
    "\n",
    "# 범례 추가\n",
    "plt.legend()\n",
    "\n",
    "# 그래프 출력\n",
    "plt.show()"
   ]
  },
  {
   "cell_type": "code",
   "execution_count": null,
   "metadata": {},
   "outputs": [],
   "source": []
  }
 ],
 "metadata": {
  "kernelspec": {
   "display_name": "Python 3",
   "language": "python",
   "name": "python3"
  },
  "language_info": {
   "codemirror_mode": {
    "name": "ipython",
    "version": 3
   },
   "file_extension": ".py",
   "mimetype": "text/x-python",
   "name": "python",
   "nbconvert_exporter": "python",
   "pygments_lexer": "ipython3",
   "version": "3.11.8"
  }
 },
 "nbformat": 4,
 "nbformat_minor": 2
}
